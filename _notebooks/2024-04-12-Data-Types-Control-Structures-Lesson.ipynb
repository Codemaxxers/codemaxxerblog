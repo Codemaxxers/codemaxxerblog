{
 "cells": [
  {
   "cell_type": "markdown",
   "metadata": {},
   "source": [
    "---\n",
    "toc: true \n",
    "comments: true \n",
    "layout: post \n",
    "title: Data Types and Control Structures Lesson  \n",
    "type: hacks \n",
    "courses: { csse: {week: 1}, csp: {week: 1, categories: [4.A]}, csa: {week: 0}, labnotebook: {week: 3} } \n",
    "---"
   ]
  },
  {
   "cell_type": "markdown",
   "metadata": {},
   "source": [
    "# Data Types and Control Structures Lesson \n",
    "*By Luna and Tanisha and Rachit* \n",
    "\n",
    "Find link to notebook in Slack coding channel and follow along. WGET to have easy access to these materials (WGET not required for the lesson itself)"
   ]
  },
  {
   "cell_type": "markdown",
   "metadata": {},
   "source": [
    "# Data Types"
   ]
  },
  {
   "cell_type": "markdown",
   "metadata": {},
   "source": [
    "## Primitive Data Type Overview\n",
    "- In Java there are eight primitive types : int, byte, short, long, float, double, boolean, and char\n",
    "- These data types are NOT considered objects, they represent just values. \n",
    "- Ex. int x = 20; x stores the value of 20\n",
    "- Stored on the stack memory\n",
    "\n",
    "\n",
    "![datatype_table](https://github.com/lightkurve/lightkurve/assets/111611921/415762a8-99aa-43d7-80eb-62ee92f2168a)\n"
   ]
  },
  {
   "cell_type": "markdown",
   "metadata": {},
   "source": [
    "## Reference Data Type Overview \n",
    "- A variable of a class type is a reference data type\n",
    "- Created by the programmer not defined by the Java language \n",
    "- Contains the reference of a dynamically created object \n",
    "- Ex.  Person p = new Person () . p will reference the address of the person object. \n",
    "- Stored on the heap memory \n"
   ]
  },
  {
   "cell_type": "markdown",
   "metadata": {},
   "source": [
    "## 3 Main Differences Between Primitive and Reference Types"
   ]
  },
  {
   "cell_type": "markdown",
   "metadata": {},
   "source": [
    "### 1. ASSIGNMENT\n",
    "\n",
    "**Primitive**:  When we assign a value to primitive data types, the primitive VALUE is copied. : "
   ]
  },
  {
   "cell_type": "code",
   "execution_count": null,
   "metadata": {
    "vscode": {
     "languageId": "java"
    }
   },
   "outputs": [],
   "source": [
    "// Changing the value of b, WILL NOT change the value of a\n",
    "\n",
    "Int a = 50 \n",
    "Int b = a\n"
   ]
  },
  {
   "cell_type": "markdown",
   "metadata": {},
   "source": [
    "**Reference**:  When we assign value to reference type the address is copied. When we assign reference type values, both will point to the same address. The object will be shared between two represent variables. "
   ]
  },
  {
   "cell_type": "code",
   "execution_count": null,
   "metadata": {
    "vscode": {
     "languageId": "java"
    }
   },
   "outputs": [],
   "source": [
    "// Changing anything of f, WILL change p\n",
    "\n",
    "Person p = new Person(“sample_name”); \n",
    "Person f = p; \n"
   ]
  },
  {
   "cell_type": "markdown",
   "metadata": {},
   "source": [
    "### 2. COMPARISON\n",
    "\n",
    "**Primitive**: When we compare primitive variables (==) , their values will be compared \n"
   ]
  },
  {
   "cell_type": "markdown",
   "metadata": {},
   "source": [
    "**Reference**: When we compare reference variables (equals() method) , their addresses will be compared. Two objects with the same exact content may not be seen as not equal. \n"
   ]
  },
  {
   "cell_type": "code",
   "execution_count": 1,
   "metadata": {
    "vscode": {
     "languageId": "java"
    }
   },
   "outputs": [
    {
     "name": "stdout",
     "output_type": "stream",
     "text": [
      "Value of a equals value of b\n",
      "Str1 and Str2 have the same content (equals) \n"
     ]
    }
   ],
   "source": [
    "public class Comparison {\n",
    "    public static void main(String[] args) {\n",
    "        // Primitive \n",
    "        int a = 20; \n",
    "        int b = 20; \n",
    "\n",
    "        // Reference\n",
    "        String str1 = new String(\"word\");\n",
    "        String str2 = new String(\"word\");\n",
    "\n",
    "        // Compare Primitive with (==) : Primitive types are compared by VALUE\n",
    "        if (a==b) {\n",
    "            System.out.println(\"Value of a equals value of b\"); \n",
    "        } else {\n",
    "            System.out.println(\"Value of a DOES NOT equal value of b\");\n",
    "        }\n",
    "\n",
    "        // Compare Reference with (==) VS .equals() : Reference types are compared by REFERENCE not value\n",
    "\n",
    "        if(str1 == str2){\n",
    "            System.out.println(\"Str1 and Str 2 have the same content (==)\");\n",
    "        }\n",
    "        if(str1.equals(str2)){\n",
    "            System.out.println(\"Str1 and Str2 have the same content (equals) \");\n",
    "        }\n",
    "\n",
    "    }\n",
    "}\n",
    "\n",
    "Comparison.main(null);\n"
   ]
  },
  {
   "cell_type": "markdown",
   "metadata": {},
   "source": [
    "### 3. NULL VALUES \n",
    "\n",
    "**Primitive**: Primitive types can never be null. No assignment will result in their default value (see table in primitive data section) \n",
    "\n",
    "**Reference**: Reference types can be null. Null signified the absence of an assigned value. \n",
    "\n",
    "\n",
    "\n"
   ]
  },
  {
   "cell_type": "markdown",
   "metadata": {},
   "source": [
    "## Extra  \n",
    "### Visualizing Stack Memory Vs Heap Memory \n",
    "<img width=\"518\" alt=\"image\" src=\"https://github.com/lightkurve/lightkurve/assets/111611921/f9b58a26-8c1b-4e45-9705-2bf14e6033fa\">\n",
    "\n",
    "\n",
    "### Resources\n",
    "- College Board Videos are great resources. For further clarification watch: [1.2.1 and 1.2.2](https://apclassroom.collegeboard.org/8/home?apd=auzlevozkr&unit=1)\n",
    "- This [video](https://youtu.be/n9S2Ig0S3AY) is also a great resource"
   ]
  },
  {
   "cell_type": "markdown",
   "metadata": {},
   "source": [
    "## Hacks\n",
    "\n",
    "1. Create a class on a topic of your choosing where in the main function you assign some values to those integers. Then, create a comparison statement with each type of comparison. Make it have a purpose, add a scenario.\n",
    "2. Draw a diagram for it"
   ]
  },
  {
   "cell_type": "markdown",
   "metadata": {},
   "source": [
    "# Methods and Control Structures"
   ]
  },
  {
   "cell_type": "markdown",
   "metadata": {},
   "source": [
    "### If, Else, While\n",
    "\n",
    "We will be going over the units 3 and 4 (specifically 3.2, 3.3, 3.4, 4.1) these topics. These have somewhat of a significant weighting on the AP test so it is essential you know this information.\n",
    "\n",
    "### Unit 3 College Board > Boolean Expressions and if Statements \n",
    "\n",
    "### ★ If Statements\n",
    "\n",
    "Sometimes we want the code to perform an action only if a certain condition is met, while other condition will result into differnt actions. This requires us to us a conditional statement. This usually consists of conditional statement headers with the condition in it and the body should include the code that is run if the conditional statment is true.\n",
    "\n",
    "**Essential Knowledge:** \n",
    "- conditional statements interrupt the sequential execution of statements\n",
    "- If statements affect the flow of control by executing different statements based on the value of a Boolean expression\n",
    "- A one-way selection (if statement) is written when there is a set of statements to execute under a certain condition. \n",
    "\n",
    "<img width=\"794\" alt=\"Screenshot 2024-03-12 at 10 35 13 PM\" src=\"https://github.com/lunaiwa/student-template/assets/111661543/ee87fbb6-7536-4551-b165-211bb494fc8e\">\n",
    "\n",
    "- The simplest conditional statement is an `if` statement, these are also called one way selection. \n",
    "- An if statement only works if the condition is met and true when the code runs. Here is a simple example of an `if` statment. "
   ]
  },
  {
   "cell_type": "code",
   "execution_count": 1,
   "metadata": {
    "vscode": {
     "languageId": "java"
    }
   },
   "outputs": [
    {
     "name": "stdout",
     "output_type": "stream",
     "text": [
      "x is greater than 5\n"
     ]
    }
   ],
   "source": [
    "public class Statement {\n",
    "    public static void main(String[] args) {\n",
    "        int x = 10;\n",
    "\n",
    "        if (x > 5) {\n",
    "            System.out.println(\"x is greater than 5\");\n",
    "        }\n",
    "    }\n",
    "}\n",
    "Statement.main(null)"
   ]
  },
  {
   "cell_type": "markdown",
   "metadata": {},
   "source": [
    "### ★ If-Else Statements AKA two way selection\n",
    "\n",
    "Imagine you have a decision to make. You say, \"If it's sunny, I'll go outside. Otherwise, I'll stay inside.\" This is the if statment. It checks a condition (like if it's sunny), and if that condition is true, it does something (like going outside). But if it's not sunny? You still want to make a decision. That's where the `else` statement comes in."
   ]
  },
  {
   "cell_type": "code",
   "execution_count": 2,
   "metadata": {
    "vscode": {
     "languageId": "java"
    }
   },
   "outputs": [
    {
     "name": "stdout",
     "output_type": "stream",
     "text": [
      "I'll go outside\n"
     ]
    }
   ],
   "source": [
    "public class Weather {\n",
    "    public static void main(String[] args) {\n",
    "        String weather = \"sunny\";\n",
    "\n",
    "        if (weather.equals(\"sunny\")) {\n",
    "            System.out.println(\"I'll go outside\");\n",
    "        } else {\n",
    "            System.out.println(\"I'll stay inside\");\n",
    "        }\n",
    "    }\n",
    "}\n",
    "Weather.main(null)"
   ]
  },
  {
   "cell_type": "markdown",
   "metadata": {},
   "source": [
    "### ★ Else-If Statements \n",
    "\n",
    "Imagine you have to make a series of decisions, but each decision depends on the outcome of the previous ones. You have different conditions to check, and you want to do something specific based on each condition. This is where `else if` statements come in.\n",
    "\n",
    "Here's how it works:\n",
    "\n",
    "- You start with an `if` statement, where you check the first condition.\n",
    "- If the first condition is not met (it's false), you move to the next `else if` statement. Here, you check a different condition.\n",
    "- If the second condition is not met, you move to the next `else if` statement, and so on.\n",
    "- This continues until you find a condition that is true. When you find that true condition, the corresponding code block runs, and the rest of the `else if` blocks are skipped.\n",
    "- If none of the conditions are true, the code inside the `else` block runs.\n",
    "\n",
    "`else if` statements allow us to handle multiple conditions in a sequence until we find the appropriate one that is true."
   ]
  },
  {
   "cell_type": "code",
   "execution_count": 3,
   "metadata": {
    "vscode": {
     "languageId": "java"
    }
   },
   "outputs": [
    {
     "name": "stdout",
     "output_type": "stream",
     "text": [
      "x is positive\n"
     ]
    }
   ],
   "source": [
    "public class Numbers {\n",
    "    public static void main(String[] args) {\n",
    "        int x = 10;\n",
    "\n",
    "        if (x > 0) {\n",
    "            System.out.println(\"x is positive\");\n",
    "        } else if (x < 0) {\n",
    "            System.out.println(\"x is negative\");\n",
    "        } else {\n",
    "            System.out.println(\"x is zero\");\n",
    "        }\n",
    "    }\n",
    "}\n",
    "Numbers.main(null)"
   ]
  },
  {
   "cell_type": "markdown",
   "metadata": {},
   "source": [
    "### Unit 4 College Board > Iteration\n",
    "\n",
    "### ★ While Loops\n",
    "\n",
    "The `while` loop is a fundamental concept in programming. It allows you to repeat a block of code as long as a certain condition is true. \n",
    "\n",
    "**Anatomy of a While Loop:**\n",
    "1. **Code before loop**: You can have some code executed before entering the loop.\n",
    "2. **Condition**: The loop checks a condition. As long as this condition is true, the loop continues running.\n",
    "3. **Code inside the loop**: If the condition is true, the code inside the loop is executed.\n",
    "4. **Code after the loop**: Once the condition becomes false, the loop exits, and you can have some code executed after the loop.\n"
   ]
  },
  {
   "cell_type": "code",
   "execution_count": 7,
   "metadata": {
    "vscode": {
     "languageId": "java"
    }
   },
   "outputs": [
    {
     "name": "stdout",
     "output_type": "stream",
     "text": [
      "Count : 0\n",
      "Count : 1\n",
      "Count : 2\n",
      "Count : 3\n",
      "Count : 4\n",
      "DONE\n"
     ]
    }
   ],
   "source": [
    "public class While {\n",
    "    public static void main(String[] args) {\n",
    "        int count = 0;\n",
    "        //run as long as count is less than 5\n",
    "        while (count < 5) {\n",
    "            System.out.println(\"Count : \" + count);\n",
    "            count++;\n",
    "        }\n",
    "        System.out.println(\"DONE\");\n",
    "    }\n",
    "}\n",
    "While.main(null)"
   ]
  },
  {
   "cell_type": "markdown",
   "metadata": {},
   "source": [
    "**Possible Issues with Loops:**\n",
    "\n",
    "**Loop Condition Always True**: If the loop condition is always true, the loop runs indefinitely, causing what's called an \"infinite loop\". This can crash a program and should be avoided.\n",
    "\n",
    "**Loop Condition Always False**: If the loop condition is always false, the loop never runs, which can lead to inefficiencies."
   ]
  },
  {
   "cell_type": "code",
   "execution_count": null,
   "metadata": {
    "vscode": {
     "languageId": "java"
    }
   },
   "outputs": [],
   "source": [
    "public class True {\n",
    "    public static void main(String[] args) {\n",
    "        int count = 0;\n",
    "        //this loop will keep running\n",
    "        while (true) {\n",
    "            System.out.println(\"Count : \" + count);\n",
    "            count++;\n",
    "        }\n",
    "        System.out.println(\"DONE\");\n",
    "    }\n",
    "}\n",
    "True.main(null)"
   ]
  },
  {
   "cell_type": "code",
   "execution_count": null,
   "metadata": {
    "vscode": {
     "languageId": "java"
    }
   },
   "outputs": [],
   "source": [
    "public class False {\n",
    "    public static void main(String[] args) {\n",
    "        int count = 0;\n",
    "        //this loop will never run\n",
    "        while (false) {\n",
    "            System.out.println(\"Count\" : + count);\n",
    "            count++; \n",
    "        }\n",
    "        System.out.println(\"DONE\");\n",
    "    }\n",
    "}\n",
    "False.main(null)"
   ]
  },
  {
   "cell_type": "markdown",
   "metadata": {},
   "source": [
    "**Types:**\n",
    "1. **Fixed Number of Repetitions**: Use an integer to count the number of repetitions. The loop runs a specific number of times.\n",
    "2. **Variable Number of Repetitions Using A Sentinel**: Use a special input value (sentinel) to determine when to stop the loop.\n",
    "3. **Variable Number of Repetitions Using A Flag**: Use a boolean flag to determine when to stop the loop.\n",
    "\n",
    "**Break and Continue Statements:**\n",
    "- **Break Statement**: Immediately exits the loop, regardless of the loop condition.\n",
    "- **Continue Statement**: Skips the current iteration of the loop and continues with the next iteration."
   ]
  },
  {
   "cell_type": "code",
   "execution_count": 10,
   "metadata": {
    "vscode": {
     "languageId": "java"
    }
   },
   "outputs": [
    {
     "name": "stdout",
     "output_type": "stream",
     "text": [
      "Count : 0\n",
      "Count : 1\n",
      "Count : 2\n",
      "Count : 3\n",
      "Count : 4\n",
      "DONE\n"
     ]
    }
   ],
   "source": [
    "public class Break {\n",
    "    public static void main(String[] args) {\n",
    "        int count = 0;\n",
    "        //will run until count = 5\n",
    "        while (true) {\n",
    "            System.out.println(\"Count : \" + count);\n",
    "            count++; \n",
    "\n",
    "            if (count == 5) {\n",
    "                //when reaching 5 it exits the loop\n",
    "                break;\n",
    "            }\n",
    "        }\n",
    "        System.out.println(\"DONE\");\n",
    "    }\n",
    "}\n",
    "Break.main(null)"
   ]
  },
  {
   "cell_type": "code",
   "execution_count": 11,
   "metadata": {
    "vscode": {
     "languageId": "java"
    }
   },
   "outputs": [
    {
     "name": "stdout",
     "output_type": "stream",
     "text": [
      "Count : 1\n",
      "Count : 2\n",
      "Count : 4\n",
      "Count : 5\n",
      "DONE\n"
     ]
    }
   ],
   "source": [
    "public class Continue {\n",
    "    public static void main(String[] args) {\n",
    "        int count = 0;\n",
    "        //will run until count = 5 but skips 3\n",
    "        while (count < 5) {\n",
    "            count++;\n",
    "\n",
    "            if (count == 3) {\n",
    "                //skip when count = 3\n",
    "                continue;\n",
    "            }\n",
    "\n",
    "            System.out.println(\"Count : \" + count);\n",
    "        }\n",
    "        System.out.println(\"DONE\");\n",
    "    }\n",
    "}\n",
    "Continue.main(null)"
   ]
  },
  {
   "cell_type": "markdown",
   "metadata": {},
   "source": [
    "**Try-Catch Statements and Exception Handling:**\n",
    "- Used to handle errors gracefully during program execution.\n",
    "- `try` block attempts to run code that might throw an exception.\n",
    "- `catch` block handles exceptions that occur within the `try` block.\n",
    "- Ensures that the program doesn't crash unexpectedly.\n",
    "\n",
    "**Algorithms Using While Loops:**\n",
    "- While loops are used in various algorithms to perform repetitive tasks efficiently."
   ]
  }
 ],
 "metadata": {
  "kernelspec": {
   "display_name": "Java",
   "language": "java",
   "name": "java"
  },
  "language_info": {
   "codemirror_mode": "java",
   "file_extension": ".jshell",
   "mimetype": "text/x-java-source",
   "name": "Java",
   "pygments_lexer": "java",
   "version": "20.0.1"
  }
 },
 "nbformat": 4,
 "nbformat_minor": 2
}
