{
 "cells": [
  {
   "cell_type": "markdown",
   "metadata": {},
   "source": [
    "---\n",
    "toc: true \n",
    "comments: true \n",
    "layout: post \n",
    "title: Data Types and Control Structures Lesson  \n",
    "type: hacks \n",
    "courses: { csse: {week: 1}, csp: {week: 1, categories: [4.A]}, csa: {week: 0}, labnotebook: {week: 3} } \n",
    "---"
   ]
  },
  {
   "cell_type": "markdown",
   "metadata": {},
   "source": [
    "# Data Types and Control Structures Lesson \n",
    "*By Luna and Tanisha and Rachit* \n",
    "\n",
    "Find link to notebook in Slack coding channel and follow along. WGET to have easy access to these materials (WGET not required for the lesson itself)"
   ]
  },
  {
   "cell_type": "markdown",
   "metadata": {},
   "source": [
    "# Data Types"
   ]
  },
  {
   "cell_type": "markdown",
   "metadata": {},
   "source": [
    "## Primitive Data Type Overview\n",
    "- In Java there are eight primitive types : int, byte, short, long, float, double, boolean, and char\n",
    "- These data types are NOT considered objects, they represent just values. \n",
    "- Ex. int x = 20; x stores the value of 20\n",
    "- Stored on the stack memory\n",
    "\n",
    "\n",
    "![datatype_table](https://github.com/lightkurve/lightkurve/assets/111611921/415762a8-99aa-43d7-80eb-62ee92f2168a)\n"
   ]
  },
  {
   "cell_type": "markdown",
   "metadata": {},
   "source": [
    "## Reference Data Type Overview \n",
    "- A variable of a class type is a reference data type\n",
    "- Created by the programmer not defined by the Java language \n",
    "- Contains the reference of a dynamically created object \n",
    "- Ex.  Person p = new Person () . p will reference the address of the person object. \n",
    "- Stored on the heap memory \n"
   ]
  },
  {
   "cell_type": "markdown",
   "metadata": {},
   "source": [
    "## 3 Main Differences Between Primitive and Reference Types"
   ]
  },
  {
   "cell_type": "markdown",
   "metadata": {},
   "source": [
    "### 1. ASSIGNMENT\n",
    "\n",
    "**Primitive**:  When we assign a value to primitive data types, the primitive VALUE is copied. : "
   ]
  },
  {
   "cell_type": "code",
   "execution_count": null,
   "metadata": {
    "vscode": {
     "languageId": "java"
    }
   },
   "outputs": [],
   "source": [
    "// Changing the value of b, WILL NOT change the value of a\n",
    "\n",
    "Int a = 50 \n",
    "Int b = a\n"
   ]
  },
  {
   "cell_type": "markdown",
   "metadata": {},
   "source": [
    "**Reference**:  When we assign value to reference type the address is copied. When we assign reference type values, both will point to the same address. The object will be shared between two represent variables. "
   ]
  },
  {
   "cell_type": "code",
   "execution_count": null,
   "metadata": {
    "vscode": {
     "languageId": "java"
    }
   },
   "outputs": [],
   "source": [
    "// Changing anything of f, WILL change p\n",
    "\n",
    "Person p = new Person(“sample_name”); \n",
    "Person f = p; \n"
   ]
  },
  {
   "cell_type": "markdown",
   "metadata": {},
   "source": [
    "### 2. COMPARISON\n",
    "\n",
    "**Primitive**: When we compare primitive variables (==) , their values will be compared \n"
   ]
  },
  {
   "cell_type": "markdown",
   "metadata": {},
   "source": [
    "**Reference**: When we compare reference variables (equals() method) , their addresses will be compared. Two objects with the same exact content may not be seen as not equal. \n"
   ]
  },
  {
   "cell_type": "code",
   "execution_count": 1,
   "metadata": {
    "vscode": {
     "languageId": "java"
    }
   },
   "outputs": [
    {
     "name": "stdout",
     "output_type": "stream",
     "text": [
      "Value of a equals value of b\n",
      "Str1 and Str2 have the same content (equals) \n"
     ]
    }
   ],
   "source": [
    "public class Comparison {\n",
    "    public static void main(String[] args) {\n",
    "        // Primitive \n",
    "        int a = 20; \n",
    "        int b = 20; \n",
    "\n",
    "        // Reference\n",
    "        String str1 = new String(\"word\");\n",
    "        String str2 = new String(\"word\");\n",
    "\n",
    "        // Compare Primitive with (==) : Primitive types are compared by VALUE\n",
    "        if (a==b) {\n",
    "            System.out.println(\"Value of a equals value of b\"); \n",
    "        } else {\n",
    "            System.out.println(\"Value of a DOES NOT equal value of b\");\n",
    "        }\n",
    "\n",
    "        // Compare Reference with (==) VS .equals() : Reference types are compared by REFERENCE not value\n",
    "\n",
    "        if(str1 == str2){\n",
    "            System.out.println(\"Str1 and Str 2 have the same content (==)\");\n",
    "        }\n",
    "        if(str1.equals(str2)){\n",
    "            System.out.println(\"Str1 and Str2 have the same content (equals) \");\n",
    "        }\n",
    "\n",
    "    }\n",
    "}\n",
    "\n",
    "Comparison.main(null);\n"
   ]
  },
  {
   "cell_type": "markdown",
   "metadata": {},
   "source": [
    "### 3. NULL VALUES \n",
    "\n",
    "**Primitive**: Primitive types can never be null. No assignment will result in their default value (see table in primitive data section) \n",
    "\n",
    "**Reference**: Reference types can be null. Null signified the absence of an assigned value. \n",
    "\n",
    "\n",
    "\n"
   ]
  },
  {
   "cell_type": "markdown",
   "metadata": {},
   "source": [
    "## Extra  \n",
    "### Visualizing Stack Memory Vs Heap Memory \n",
    "<img width=\"518\" alt=\"image\" src=\"https://github.com/lightkurve/lightkurve/assets/111611921/f9b58a26-8c1b-4e45-9705-2bf14e6033fa\">\n",
    "\n",
    "\n",
    "### Resources\n",
    "- College Board Videos are great resources. For further clarification watch: [1.2.1 and 1.2.2](https://apclassroom.collegeboard.org/8/home?apd=auzlevozkr&unit=1)\n",
    "- This [video](https://youtu.be/n9S2Ig0S3AY) is also a great resource"
   ]
  },
  {
   "cell_type": "markdown",
   "metadata": {},
   "source": [
    "## Hacks\n",
    "\n",
    "1. Create a class on a topic of your choosing where in the main function you assign some values to those integers. Then, create a comparison statement with each type of comparison. Make it have a purpose, add a scenario.\n",
    "2. Draw a diagram for it"
   ]
  },
  {
   "cell_type": "markdown",
   "metadata": {},
   "source": [
    "# Methods and Control Structures"
   ]
  },
  {
   "cell_type": "markdown",
   "metadata": {},
   "source": [
    "### FRQ - Calender\n",
    "\n",
    "<img width=\"812\" alt=\"Screenshot 2024-03-13 at 8 40 58 AM\" src=\"https://github.com/lunaiwa/student-template/assets/111661543/c85dbc04-9145-4cfd-bf62-3e9742d4ab07\">\n",
    "\n",
    "Any method that shows implementation not shown is a red flag and is somthing that will be used at some point !!!\n",
    "\n",
    "<img width=\"549\" alt=\"Screenshot 2024-03-13 at 8 44 59 AM\" src=\"https://github.com/lunaiwa/student-template/assets/111661543/9ac9dfeb-1f01-43b0-bd23-a6b4fc7a0d7a\">\n",
    "\n",
    "Helper method called day of year, if I pass a month a day in a year it will tell us what numerica day of the year that day is.\n",
    "EX: January 2 2021 > 2 day of the year\n",
    "\n",
    "Day of week method, pass in a month a day and year and it tells what specific week it was by returning the same numeric valuse that we had before 0 is sunday and 1 is monday ect. all the way up to six saturday. \n",
    "\n",
    "In the comment \"there may be instance variables, contructors, and other methods not shown\" we can assue that everything is contructed approprietly and everything is where it is supposed to be\n",
    "\n",
    "<img width=\"665\" alt=\"Screenshot 2024-03-13 at 8 51 08 AM\" src=\"https://github.com/lunaiwa/student-template/assets/111661543/40349839-f7a8-4e92-9f0d-e99a5e723b7b\">\n",
    "\n",
    "Anythings that is prewriten we have to keep the same ! Another key thing is the weird text font. Telling us a specific static method there is a numberOfLeapYears that we absolutly have to use, returns number of leap years between year1 and year2, those are locked in and we can't change them. Part of the required part of this is using already provided methods and how to use things that are already there and call them so we are writing our code effeciently as possible.\n",
    "\n",
    "<img width=\"447\" alt=\"Screenshot 2024-03-13 at 8 55 35 AM\" src=\"https://github.com/lunaiwa/student-template/assets/111661543/4fefbea8-8f77-4628-bcd0-450e7ce656be\">\n",
    "\n",
    "- Every question is worth 9 points and part a is worth 5 of those 9 points. We have to make sure we are counting somthing so we need to initialize a counter with some numeric variable and set it equal to 0 to start.\n",
    "- Looping through each necessary year in the range, they gave us yar 1 and year 2 we have to make sure we look at ever year in between including those two\n",
    "- We have to call isLeapYear on some valid year in the range\n",
    "- Have to update the count based on the result of calling isLeapYear, if returns true we update the counter and if false we don't\n",
    "- return the count of leap years\n",
    "\n",
    "occationally some questions have question specific penalties and this one is that if you use this. to call a static method there is a one point penalty\n",
    "\n",
    "instance methods > relate to the instance of a class\n",
    "Static method > assigned to the class, aren't assigned to specific instance\n",
    "\n",
    "Purpose of this. is to reference the current object as the object when you call an instance method. If you are calling a static method you can't use this. becuase you can't reference a static method to a specific object and thats the purpose of what this dot does. Would avoid unless you are really comfterable knowing how to use it approprietly when writing methods and calling other methods in the class. \n",
    "\n",
    "**Sample Solution**\n",
    "\n",
    "Example solution for number of leap years\n",
    "\n",
    "- initialize a variable to count\n",
    "- iterate through all of the years from year 1 to and including year 2\n",
    "- appropriatley call is leap year on a specific year on that range \n",
    "- inclement our counter based on result of leap year and we need to return the count\n",
    "\n",
    "(reference the scoring sheet for part a to also see if this example fulfills the rubric)\n"
   ]
  },
  {
   "cell_type": "code",
   "execution_count": null,
   "metadata": {
    "vscode": {
     "languageId": "java"
    }
   },
   "outputs": [],
   "source": [
    "public static int numberOfLeapYears (int year1, int year2)\n",
    "{\n",
    "    int count = 0;\n",
    "    for (int y = year1; y <= year2; y++)\n",
    "    {\n",
    "        if (isLeapYear(y))\n",
    "        {\n",
    "            count++;\n",
    "        }\n",
    "    }\n",
    "    return count;\n",
    "}"
   ]
  },
  {
   "cell_type": "markdown",
   "metadata": {},
   "source": [
    "\n",
    "## Hacks \n",
    "\n",
    "Solve the second part of this FRQ, make sure your answer fulfills the rubic below\n",
    "\n",
    "<img width=\"663\" alt=\"Screenshot 2024-03-13 at 9 13 03 AM\" src=\"https://github.com/lunaiwa/student-template/assets/111661543/e24c1e0b-a4df-40c4-923e-18620cc9227c\">\n",
    "\n",
    "<img width=\"477\" alt=\"Screenshot 2024-03-13 at 9 14 01 AM\" src=\"https://github.com/lunaiwa/student-template/assets/111661543/5e87853f-4593-4b36-880d-7458f4a48f44\">"
   ]
  },
  {
   "cell_type": "markdown",
   "metadata": {},
   "source": [
    "---\n",
    "---\n",
    "---\n",
    "---\n",
    "## IF,ELSE,While Review >>>"
   ]
  },
  {
   "cell_type": "markdown",
   "metadata": {},
   "source": [
    "### If, Else, While\n",
    "\n",
    "We will be going over the units 3 and 4 (specifically 3.2, 3.3, 3.4, 4.1) these topics. These have somewhat of a significant weighting on the AP test so it is essential you know this information.\n",
    "\n",
    "### Unit 3 College Board > Boolean Expressions and if Statements \n",
    "\n",
    "### ★ If Statements\n",
    "\n",
    "Sometimes we want the code to perform an action only if a certain condition is met, while other condition will result into differnt actions. This requires us to us a conditional statement. This usually consists of conditional statement headers with the condition in it and the body should include the code that is run if the conditional statment is true.\n",
    "\n",
    "**Essential Knowledge:** \n",
    "- conditional statements interrupt the sequential execution of statements\n",
    "- If statements affect the flow of control by executing different statements based on the value of a Boolean expression\n",
    "- A one-way selection (if statement) is written when there is a set of statements to execute under a certain condition. \n",
    "\n",
    "<img width=\"794\" alt=\"Screenshot 2024-03-12 at 10 35 13 PM\" src=\"https://github.com/lunaiwa/student-template/assets/111661543/ee87fbb6-7536-4551-b165-211bb494fc8e\">\n",
    "\n",
    "- The simplest conditional statement is an `if` statement, these are also called one way selection. \n",
    "- An if statement only works if the condition is met and true when the code runs. Here is a simple example of an `if` statment. "
   ]
  },
  {
   "cell_type": "code",
   "execution_count": 1,
   "metadata": {
    "vscode": {
     "languageId": "java"
    }
   },
   "outputs": [
    {
     "name": "stdout",
     "output_type": "stream",
     "text": [
      "x is greater than 5\n"
     ]
    }
   ],
   "source": [
    "public class Statement {\n",
    "    public static void main(String[] args) {\n",
    "        int x = 10;\n",
    "\n",
    "        if (x > 5) {\n",
    "            System.out.println(\"x is greater than 5\");\n",
    "        }\n",
    "    }\n",
    "}\n",
    "Statement.main(null)"
   ]
  },
  {
   "cell_type": "markdown",
   "metadata": {},
   "source": [
    "### ★ If-Else Statements AKA two way selection\n",
    "\n",
    "Imagine you have a decision to make. You say, \"If it's sunny, I'll go outside. Otherwise, I'll stay inside.\" This is the if statment. It checks a condition (like if it's sunny), and if that condition is true, it does something (like going outside). But if it's not sunny? You still want to make a decision. That's where the `else` statement comes in."
   ]
  },
  {
   "cell_type": "code",
   "execution_count": 2,
   "metadata": {
    "vscode": {
     "languageId": "java"
    }
   },
   "outputs": [
    {
     "name": "stdout",
     "output_type": "stream",
     "text": [
      "I'll go outside\n"
     ]
    }
   ],
   "source": [
    "public class Weather {\n",
    "    public static void main(String[] args) {\n",
    "        String weather = \"sunny\";\n",
    "\n",
    "        if (weather.equals(\"sunny\")) {\n",
    "            System.out.println(\"I'll go outside\");\n",
    "        } else {\n",
    "            System.out.println(\"I'll stay inside\");\n",
    "        }\n",
    "    }\n",
    "}\n",
    "Weather.main(null)"
   ]
  },
  {
   "cell_type": "markdown",
   "metadata": {},
   "source": [
    "### ★ Else-If Statements \n",
    "\n",
    "Imagine you have to make a series of decisions, but each decision depends on the outcome of the previous ones. You have different conditions to check, and you want to do something specific based on each condition. This is where `else if` statements come in.\n",
    "\n",
    "Here's how it works:\n",
    "\n",
    "- You start with an `if` statement, where you check the first condition.\n",
    "- If the first condition is not met (it's false), you move to the next `else if` statement. Here, you check a different condition.\n",
    "- If the second condition is not met, you move to the next `else if` statement, and so on.\n",
    "- This continues until you find a condition that is true. When you find that true condition, the corresponding code block runs, and the rest of the `else if` blocks are skipped.\n",
    "- If none of the conditions are true, the code inside the `else` block runs.\n",
    "\n",
    "`else if` statements allow us to handle multiple conditions in a sequence until we find the appropriate one that is true."
   ]
  },
  {
   "cell_type": "code",
   "execution_count": 3,
   "metadata": {
    "vscode": {
     "languageId": "java"
    }
   },
   "outputs": [
    {
     "name": "stdout",
     "output_type": "stream",
     "text": [
      "x is positive\n"
     ]
    }
   ],
   "source": [
    "public class Numbers {\n",
    "    public static void main(String[] args) {\n",
    "        int x = 10;\n",
    "\n",
    "        if (x > 0) {\n",
    "            System.out.println(\"x is positive\");\n",
    "        } else if (x < 0) {\n",
    "            System.out.println(\"x is negative\");\n",
    "        } else {\n",
    "            System.out.println(\"x is zero\");\n",
    "        }\n",
    "    }\n",
    "}\n",
    "Numbers.main(null)"
   ]
  },
  {
   "cell_type": "markdown",
   "metadata": {},
   "source": [
    "### Unit 4 College Board > Iteration\n",
    "\n",
    "### ★ While Loops\n",
    "\n",
    "The `while` loop is a fundamental concept in programming. It allows you to repeat a block of code as long as a certain condition is true. \n",
    "\n",
    "**Anatomy of a While Loop:**\n",
    "1. **Code before loop**: You can have some code executed before entering the loop.\n",
    "2. **Condition**: The loop checks a condition. As long as this condition is true, the loop continues running.\n",
    "3. **Code inside the loop**: If the condition is true, the code inside the loop is executed.\n",
    "4. **Code after the loop**: Once the condition becomes false, the loop exits, and you can have some code executed after the loop.\n"
   ]
  },
  {
   "cell_type": "code",
   "execution_count": 7,
   "metadata": {
    "vscode": {
     "languageId": "java"
    }
   },
   "outputs": [
    {
     "name": "stdout",
     "output_type": "stream",
     "text": [
      "Count : 0\n",
      "Count : 1\n",
      "Count : 2\n",
      "Count : 3\n",
      "Count : 4\n",
      "DONE\n"
     ]
    }
   ],
   "source": [
    "public class While {\n",
    "    public static void main(String[] args) {\n",
    "        int count = 0;\n",
    "        //run as long as count is less than 5\n",
    "        while (count < 5) {\n",
    "            System.out.println(\"Count : \" + count);\n",
    "            count++;\n",
    "        }\n",
    "        System.out.println(\"DONE\");\n",
    "    }\n",
    "}\n",
    "While.main(null)"
   ]
  },
  {
   "cell_type": "markdown",
   "metadata": {},
   "source": [
    "**Possible Issues with Loops:**\n",
    "\n",
    "**Loop Condition Always True**: If the loop condition is always true, the loop runs indefinitely, causing what's called an \"infinite loop\". This can crash a program and should be avoided.\n",
    "\n",
    "**Loop Condition Always False**: If the loop condition is always false, the loop never runs, which can lead to inefficiencies."
   ]
  },
  {
   "cell_type": "code",
   "execution_count": null,
   "metadata": {
    "vscode": {
     "languageId": "java"
    }
   },
   "outputs": [],
   "source": [
    "public class True {\n",
    "    public static void main(String[] args) {\n",
    "        int count = 0;\n",
    "        //this loop will keep running\n",
    "        while (true) {\n",
    "            System.out.println(\"Count : \" + count);\n",
    "            count++;\n",
    "        }\n",
    "        System.out.println(\"DONE\");\n",
    "    }\n",
    "}\n",
    "True.main(null)"
   ]
  },
  {
   "cell_type": "code",
   "execution_count": null,
   "metadata": {
    "vscode": {
     "languageId": "java"
    }
   },
   "outputs": [],
   "source": [
    "public class False {\n",
    "    public static void main(String[] args) {\n",
    "        int count = 0;\n",
    "        //this loop will never run\n",
    "        while (false) {\n",
    "            System.out.println(\"Count\" : + count);\n",
    "            count++; \n",
    "        }\n",
    "        System.out.println(\"DONE\");\n",
    "    }\n",
    "}\n",
    "False.main(null)"
   ]
  },
  {
   "cell_type": "markdown",
   "metadata": {},
   "source": [
    "**Types:**\n",
    "1. **Fixed Number of Repetitions**: Use an integer to count the number of repetitions. The loop runs a specific number of times.\n",
    "2. **Variable Number of Repetitions Using A Sentinel**: Use a special input value (sentinel) to determine when to stop the loop.\n",
    "3. **Variable Number of Repetitions Using A Flag**: Use a boolean flag to determine when to stop the loop.\n",
    "\n",
    "**Break and Continue Statements:**\n",
    "- **Break Statement**: Immediately exits the loop, regardless of the loop condition.\n",
    "- **Continue Statement**: Skips the current iteration of the loop and continues with the next iteration."
   ]
  },
  {
   "cell_type": "code",
   "execution_count": 10,
   "metadata": {
    "vscode": {
     "languageId": "java"
    }
   },
   "outputs": [
    {
     "name": "stdout",
     "output_type": "stream",
     "text": [
      "Count : 0\n",
      "Count : 1\n",
      "Count : 2\n",
      "Count : 3\n",
      "Count : 4\n",
      "DONE\n"
     ]
    }
   ],
   "source": [
    "public class Break {\n",
    "    public static void main(String[] args) {\n",
    "        int count = 0;\n",
    "        //will run until count = 5\n",
    "        while (true) {\n",
    "            System.out.println(\"Count : \" + count);\n",
    "            count++; \n",
    "\n",
    "            if (count == 5) {\n",
    "                //when reaching 5 it exits the loop\n",
    "                break;\n",
    "            }\n",
    "        }\n",
    "        System.out.println(\"DONE\");\n",
    "    }\n",
    "}\n",
    "Break.main(null)"
   ]
  },
  {
   "cell_type": "code",
   "execution_count": 11,
   "metadata": {
    "vscode": {
     "languageId": "java"
    }
   },
   "outputs": [
    {
     "name": "stdout",
     "output_type": "stream",
     "text": [
      "Count : 1\n",
      "Count : 2\n",
      "Count : 4\n",
      "Count : 5\n",
      "DONE\n"
     ]
    }
   ],
   "source": [
    "public class Continue {\n",
    "    public static void main(String[] args) {\n",
    "        int count = 0;\n",
    "        //will run until count = 5 but skips 3\n",
    "        while (count < 5) {\n",
    "            count++;\n",
    "\n",
    "            if (count == 3) {\n",
    "                //skip when count = 3\n",
    "                continue;\n",
    "            }\n",
    "\n",
    "            System.out.println(\"Count : \" + count);\n",
    "        }\n",
    "        System.out.println(\"DONE\");\n",
    "    }\n",
    "}\n",
    "Continue.main(null)"
   ]
  },
  {
   "cell_type": "markdown",
   "metadata": {},
   "source": [
    "**Try-Catch Statements and Exception Handling:**\n",
    "- Used to handle errors gracefully during program execution.\n",
    "- `try` block attempts to run code that might throw an exception.\n",
    "- `catch` block handles exceptions that occur within the `try` block.\n",
    "- Ensures that the program doesn't crash unexpectedly.\n",
    "\n",
    "**Algorithms Using While Loops:**\n",
    "- While loops are used in various algorithms to perform repetitive tasks efficiently."
   ]
  }
 ],
 "metadata": {
  "kernelspec": {
   "display_name": "Java",
   "language": "java",
   "name": "java"
  },
  "language_info": {
   "codemirror_mode": "java",
   "file_extension": ".jshell",
   "mimetype": "text/x-java-source",
   "name": "Java",
   "pygments_lexer": "java",
   "version": "20.0.1"
  }
 },
 "nbformat": 4,
 "nbformat_minor": 2
}
