{
 "cells": [
  {
   "cell_type": "markdown",
   "metadata": {},
   "source": [
    "---\n",
    "toc: true \n",
    "comments: true \n",
    "layout: post \n",
    "title: Data Types and Control Structures Lesson  \n",
    "type: hacks \n",
    "courses: { csse: {week: 1}, csp: {week: 1, categories: [4.A]}, csa: {week: 0}, labnotebook: {week: 3} } \n",
    "---"
   ]
  },
  {
   "cell_type": "markdown",
   "metadata": {},
   "source": [
    "# Data Types and Control Structures Lesson \n",
    "*By Luna and Tanisha*\n",
    "\n",
    "Find link to notebook in Slack coding channel and follow along. WGET to have easy access to these materials (WGET not required for the lesson itself)"
   ]
  },
  {
   "cell_type": "markdown",
   "metadata": {},
   "source": [
    "# Data Types"
   ]
  },
  {
   "cell_type": "markdown",
   "metadata": {},
   "source": [
    "## Primitive Data Type Overview\n",
    "- In Java there are eight primitive types : int, byte, short, long, float, double, boolean, and char\n",
    "- These data types are NOT considered objects, they represent just values. \n",
    "- Ex. int x = 20; x stores the value of 20\n",
    "- Stored on the stack memory\n",
    "\n",
    "\n",
    "![datatype_table](https://github.com/lightkurve/lightkurve/assets/111611921/415762a8-99aa-43d7-80eb-62ee92f2168a)\n"
   ]
  },
  {
   "cell_type": "markdown",
   "metadata": {},
   "source": [
    "## Reference Data Type Overview \n",
    "- A variable of a class type is a reference data type\n",
    "- Created by the programmer not defined by the Java language \n",
    "- Contains the reference of a dynamically created object \n",
    "- Ex.  Person p = new Person () . p will reference the address of the person object. \n",
    "- Stored on the heap memory \n"
   ]
  },
  {
   "cell_type": "markdown",
   "metadata": {},
   "source": [
    "## 3 Main Differences Between Primitive and Reference Types"
   ]
  },
  {
   "cell_type": "markdown",
   "metadata": {},
   "source": [
    "### 1. ASSIGNMENT\n",
    "\n",
    "**Primitive**:  When we assign a value to primitive data types, the primitive VALUE is copied. : "
   ]
  },
  {
   "cell_type": "code",
   "execution_count": null,
   "metadata": {
    "vscode": {
     "languageId": "java"
    }
   },
   "outputs": [],
   "source": [
    "// Changing the value of b, WILL NOT change the value of a\n",
    "\n",
    "Int a = 50 \n",
    "Int b = a\n"
   ]
  },
  {
   "cell_type": "markdown",
   "metadata": {},
   "source": [
    "**Reference**:  When we assign value to reference type the address is copied. When we assign reference type values, both will point to the same address. The object will be shared between two represent variables. "
   ]
  },
  {
   "cell_type": "code",
   "execution_count": null,
   "metadata": {
    "vscode": {
     "languageId": "java"
    }
   },
   "outputs": [],
   "source": [
    "// Changing anything of f, WILL change p\n",
    "\n",
    "Person p = new Person(“sample_name”); \n",
    "Person f = p; \n"
   ]
  },
  {
   "cell_type": "markdown",
   "metadata": {},
   "source": [
    "### 2. COMPARISON\n",
    "\n",
    "**Primitive**: When we compare primitive variables (==) , their values will be compared \n"
   ]
  },
  {
   "cell_type": "markdown",
   "metadata": {},
   "source": [
    "**Reference**: When we compare reference variables (equals() method) , their addresses will be compared. Two objects with the same exact content may not be seen as not equal. \n"
   ]
  },
  {
   "cell_type": "code",
   "execution_count": 1,
   "metadata": {
    "vscode": {
     "languageId": "java"
    }
   },
   "outputs": [
    {
     "name": "stdout",
     "output_type": "stream",
     "text": [
      "Value of a equals value of b\n",
      "Str1 and Str2 have the same content (equals) \n"
     ]
    }
   ],
   "source": [
    "public class Comparison {\n",
    "    public static void main(String[] args) {\n",
    "        // Primitive \n",
    "        int a = 20; \n",
    "        int b = 20; \n",
    "\n",
    "        // Reference\n",
    "        String str1 = new String(\"word\");\n",
    "        String str2 = new String(\"word\");\n",
    "\n",
    "        // Compare Primitive with (==) : Primitive types are compared by VALUE\n",
    "        if (a==b) {\n",
    "            System.out.println(\"Value of a equals value of b\"); \n",
    "        } else {\n",
    "            System.out.println(\"Value of a DOES NOT equal value of b\");\n",
    "        }\n",
    "\n",
    "        // Compare Reference with (==) VS .equals() : Reference types are compared by REFERENCE not value\n",
    "\n",
    "        if(str1 == str2){\n",
    "            System.out.println(\"Str1 and Str 2 have the same content (==)\");\n",
    "        }\n",
    "        if(str1.equals(str2)){\n",
    "            System.out.println(\"Str1 and Str2 have the same content (equals) \");\n",
    "        }\n",
    "\n",
    "    }\n",
    "}\n",
    "\n",
    "Comparison.main(null);\n"
   ]
  },
  {
   "cell_type": "markdown",
   "metadata": {},
   "source": [
    "### 3. NULL VALUES \n",
    "\n",
    "**Primitive**: Primitive types can never be null. No assignment will result in their default value (see table in primitive data section) \n",
    "\n",
    "**Reference**: Reference types can be null. Null signified the absence of an assigned value. \n",
    "\n",
    "\n",
    "\n"
   ]
  },
  {
   "cell_type": "markdown",
   "metadata": {},
   "source": [
    "## Extra  \n",
    "### Visualizing Stack Memory Vs Heap Memory \n",
    "<img width=\"518\" alt=\"image\" src=\"https://github.com/lightkurve/lightkurve/assets/111611921/f9b58a26-8c1b-4e45-9705-2bf14e6033fa\">\n",
    "\n",
    "\n",
    "### Resources\n",
    "- College Board Videos are great resources. For further clarification watch: [1.2.1 and 1.2.2](https://apclassroom.collegeboard.org/8/home?apd=auzlevozkr&unit=1)\n",
    "- This [video](https://youtu.be/n9S2Ig0S3AY) is also a great resource"
   ]
  },
  {
   "cell_type": "markdown",
   "metadata": {},
   "source": [
    "# Methods and Control Structures"
   ]
  },
  {
   "cell_type": "code",
   "execution_count": null,
   "metadata": {
    "vscode": {
     "languageId": "java"
    }
   },
   "outputs": [],
   "source": []
  }
 ],
 "metadata": {
  "kernelspec": {
   "display_name": "Java",
   "language": "java",
   "name": "java"
  },
  "language_info": {
   "codemirror_mode": "java",
   "file_extension": ".jshell",
   "mimetype": "text/x-java-source",
   "name": "Java",
   "pygments_lexer": "java",
   "version": "20.0.2+9-78"
  }
 },
 "nbformat": 4,
 "nbformat_minor": 2
}
